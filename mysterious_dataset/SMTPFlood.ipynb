{
 "cells": [
  {
   "cell_type": "code",
   "execution_count": 14,
   "metadata": {},
   "outputs": [],
   "source": [
    "#!/usr/bin/env python\n",
    "import subprocess\n",
    "from datetime import datetime, timedelta\n",
    "import matplotlib.pyplot as plt\n",
    "import matplotlib.dates as mdates\n",
    "import pandas as pd"
   ]
  },
  {
   "cell_type": "code",
   "execution_count": 15,
   "metadata": {},
   "outputs": [],
   "source": [
    "'''\n",
    "    Testing flood for SMTP (aport=25)\n",
    "'''\n",
    "p = subprocess.run(\"rwfilter ./mysterious-dataset.rw --aport=25 --pass=stdout  --type=all | rwuniq --fields=sTime --sort-output --flows --no-columns --column-separator=' ' --no-title\",\n",
    "                    capture_output=True,\n",
    "                    shell=True\n",
    "                )\n",
    "\n",
    "# I have had some problems using (rwfilter with SILK_DATA_ROOTDIR even with right silk.conf configurations) \n",
    "# the start-date and end-date filtering, problems which I don't know where they come from or how to solve.\n",
    "\n",
    "# --start-date=2014/11/24:16 --end-date=2014/11/24:17\n",
    "# --start-date=2014/11/24:16 --end-date=2014/12/01:13\n",
    "\n",
    "if p.stderr:\n",
    "    raise p.stderr.decode()\n",
    "\n",
    "out = p.stdout.decode()"
   ]
  },
  {
   "cell_type": "code",
   "execution_count": 16,
   "metadata": {},
   "outputs": [
    {
     "name": "stderr",
     "output_type": "stream",
     "text": [
      "/tmp/ipykernel_460/2971842656.py:25: UserWarning: 'set_params()' not defined for locator of type <class 'matplotlib.dates.AutoDateLocator'>\n",
      "  ax.locator_params(axis='x', nbins=10)\n"
     ]
    },
    {
     "data": {
      "image/png": "[encoded data removed]",
      "text/plain": [
       "<Figure size 1440x360 with 1 Axes>"
      ]
     },
     "metadata": {
      "needs_background": "light"
     },
     "output_type": "display_data"
    },
    {
     "name": "stdout",
     "output_type": "stream",
     "text": [
      "['2014/12/01T12:15:13 2 ', '2014/12/01T12:16:11 2 ', '2014/12/01T12:18:09 2 ', '2014/12/01T12:19:13 2 ', '2014/12/01T12:20:38 2 ', '2014/12/01T12:21:19 2 ', '2014/12/01T12:29:31 2 ', '2014/12/01T13:21:03 2 ', '2014/12/01T13:22:14 2 ', '2014/12/01T13:23:37 2 ', '2014/12/01T13:25:34 2 ', '2014/12/01T13:27:23 2 ', '2014/12/01T13:35:58 2 ']\n"
     ]
    }
   ],
   "source": [
    "# key = x = dates\n",
    "# values = y = count\n",
    "dates_in_seconds = dict()\n",
    "t = out.splitlines()\n",
    "for l in t:\n",
    "    date_time,count = l.strip().split(' ')\n",
    "    dt = datetime.strptime(date_time, '%Y/%m/%dT%H:%M:%S')\n",
    "    dates_in_seconds[dt] = int(count)\n",
    "\n",
    "\n",
    "# seconds\n",
    "lx = list(dates_in_seconds.keys())\n",
    "y = list(dates_in_seconds.values())\n",
    "x = pd.to_datetime(lx)\n",
    "\n",
    "\n",
    "fig = plt.figure(figsize=(20,5))\n",
    "\n",
    "ax = fig.add_subplot(1,1,1)\n",
    "\n",
    "ax.plot(x.to_pydatetime(), y)\n",
    "\n",
    "ax.xaxis.set_major_formatter(mdates.DateFormatter('%m/%dT%H:%M'))\n",
    "\n",
    "ax.locator_params(axis='x', nbins=10)\n",
    "ax.locator_params(axis='y', nbins=7)\n",
    "ax.set_xlabel(\"DateTime - Seconds\")\n",
    "ax.set_ylabel(\"Number of Requests/Second\")\n",
    "\n",
    "plt.show()\n",
    "print(t)"
   ]
  },
  {
   "cell_type": "markdown",
   "metadata": {},
   "source": [
    "The requests are rare and not exaggerated in quantity. Saying this, we can conclude that there is no SMTP Flood occurring."
   ]
  }
 ],
 "metadata": {
  "interpreter": {
   "hash": "916dbcbb3f70747c44a77c7bcd40155683ae19c65e1c03b4aa3499c5328201f1"
  },
  "kernelspec": {
   "display_name": "Python 3.8.10 64-bit",
   "language": "python",
   "name": "python3"
  },
  "language_info": {
   "codemirror_mode": {
    "name": "ipython",
    "version": 3
   },
   "file_extension": ".py",
   "mimetype": "text/x-python",
   "name": "python",
   "nbconvert_exporter": "python",
   "pygments_lexer": "ipython3",
   "version": "3.8.10"
  },
  "orig_nbformat": 4
 },
 "nbformat": 4,
 "nbformat_minor": 2
}
