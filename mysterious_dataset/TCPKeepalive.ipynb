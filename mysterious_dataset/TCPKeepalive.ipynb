{
 "cells": [
  {
   "cell_type": "code",
   "execution_count": 1,
   "metadata": {},
   "outputs": [],
   "source": [
    "#!/usr/bin/env python\n",
    "import subprocess\n",
    "from datetime import datetime"
   ]
  },
  {
   "cell_type": "code",
   "execution_count": 2,
   "metadata": {},
   "outputs": [],
   "source": [
    "'''\n",
    "    Testing keepalive for TCP connections (proto=6) - connections that were kept alive for more than n seconds\n",
    "'''\n",
    "n = 21\n",
    "p = subprocess.run(\"rwfilter ./mysterious-dataset.rw --proto=6 --pass=stdout  --type=all | rwcut --field=sIp,dIp,stime,etime --no-columns --column-separator=' ' --no-title\",\n",
    "                    capture_output=True,\n",
    "                    shell=True\n",
    "                )\n",
    "\n",
    "# I have had some problems using (rwfilter with SILK_DATA_ROOTDIR even with right silk.conf configurations) \n",
    "# the start-date and end-date filtering, problems which I don't know where they come from or how to solve.\n",
    "\n",
    "# --start-date=2014/11/24:16 --end-date=2014/11/24:17\n",
    "# --start-date=2014/11/24:16 --end-date=2014/12/01:13\n",
    "\n",
    "if p.stderr:\n",
    "    raise p.stderr.decode()\n",
    "\n",
    "out = p.stdout.decode()"
   ]
  },
  {
   "cell_type": "code",
   "execution_count": 3,
   "metadata": {},
   "outputs": [],
   "source": [
    "# key = x = dates\n",
    "# values = y = count\n",
    "dates_in_hours = dict()\n",
    "dates_in_seconds = dict()\n",
    "dates_in_seconds2 = dict()\n",
    "t = out.splitlines()\n",
    "\n",
    "long_requests = dict()\n",
    "\n",
    "for l in t:\n",
    "    sip,dip,sdate,edate = l.strip().split(' ')\n",
    "    sdt = datetime.strptime(sdate, '%Y/%m/%dT%H:%M:%S.%f')\n",
    "    edt = datetime.strptime(edate, '%Y/%m/%dT%H:%M:%S.%f')\n",
    "    \n",
    "    sec_dif = edt.timestamp() - sdt.timestamp()\n",
    "\n",
    "    if sec_dif >= n:\n",
    "        key_str = \"sip:{} dip:{}\".format(sip,dip)\n",
    "        current_val = long_requests.get(key_str)\n",
    "        if current_val:\n",
    "            current_duration = float(current_val.split(\" \")[0].split(\":\")[1])\n",
    "            current_count = int(current_val.split(\" \")[1].split(\":\")[1])\n",
    "            current_duration += sec_dif\n",
    "            current_count += 1\n",
    "            long_requests[key_str]=\"duration:{} count:{}\".format(current_duration,current_count)\n",
    "        else:\n",
    "            long_requests[key_str]=\"duration:{} count:1\".format(sec_dif)\n",
    "\n",
    "\n",
    "# developed in wsl -> threading would be a pain and not worth it (even though in a normal env would make sense given the number of log entries)\n"
   ]
  },
  {
   "cell_type": "code",
   "execution_count": 4,
   "metadata": {},
   "outputs": [
    {
     "name": "stdout",
     "output_type": "stream",
     "text": [
      "{\n",
      "\t'sip:192.168.0.76 dip:192.168.0.200': 'mean_duration:27.607548359901674 count:31',\n",
      "\t'sip:192.168.0.200 dip:192.168.0.76': 'mean_duration:27.59506448622673 count:31',\n",
      "\t'sip:192.168.0.72 dip:192.168.0.200': 'mean_duration:28.161137934388787 count:29',\n",
      "\t'sip:192.168.0.200 dip:192.168.0.72': 'mean_duration:28.148586207422717 count:29',\n",
      "\t'sip:192.168.0.94 dip:192.168.0.200': 'mean_duration:49.9455217278522 count:46',\n",
      "\t'sip:192.168.0.200 dip:192.168.0.94': 'mean_duration:49.896586962368175 count:46',\n",
      "\t'sip:192.168.0.108 dip:192.168.0.200': 'mean_duration:24.61638459792504 count:13',\n",
      "\t'sip:192.168.0.200 dip:192.168.0.108': 'mean_duration:24.601538456403294 count:13',\n",
      "\t'sip:192.168.0.115 dip:192.168.0.200': 'mean_duration:76.48506796733047 count:5944',\n",
      "\t'sip:192.168.0.200 dip:192.168.0.115': 'mean_duration:76.48169448117389 count:5944',\n",
      "\t'sip:192.168.0.113 dip:192.168.0.200': 'mean_duration:92.41820149077152 count:14864',\n",
      "\t'sip:192.168.0.200 dip:192.168.0.113': 'mean_duration:56.047231829166414 count:220',\n",
      "\t'sip:192.168.0.39 dip:192.168.0.200': 'mean_duration:64.95181480160466 count:27',\n",
      "\t'sip:192.168.0.200 dip:192.168.0.39': 'mean_duration:64.83088888062372 count:27',\n",
      "\t'sip:192.168.0.47 dip:192.168.0.200': 'mean_duration:70.18000003269741 count:7',\n",
      "\t'sip:192.168.0.200 dip:192.168.0.47': 'mean_duration:70.16957146780831 count:7',\n",
      "\t'sip:192.168.0.64 dip:192.168.0.200': 'mean_duration:70.9653571844101 count:14',\n",
      "\t'sip:192.168.0.200 dip:192.168.0.64': 'mean_duration:70.88200000354222 count:14',\n",
      "\t'sip:192.168.0.84 dip:192.168.0.200': 'mean_duration:22.866499960422516 count:8',\n",
      "\t'sip:192.168.0.200 dip:192.168.0.84': 'mean_duration:22.866499960422516 count:8',\n",
      "\t'sip:192.168.0.98 dip:192.168.0.200': 'mean_duration:23.692124992609024 count:8',\n",
      "\t'sip:192.168.0.200 dip:192.168.0.98': 'mean_duration:23.692124992609024 count:8'\n",
      "}\n"
     ]
    }
   ],
   "source": [
    "output_dict = dict()\n",
    "for dict_entry_key in long_requests:\n",
    "    dict_entry = long_requests[dict_entry_key]\n",
    "    current_duration = float(dict_entry.split(\" \")[0].split(\":\")[1])\n",
    "    current_count = int(dict_entry.split(\" \")[1].split(\":\")[1])\n",
    "    mean_duration = current_duration / current_count\n",
    "    \n",
    "    output_dict[dict_entry_key]=\"mean_duration:{} count:{}\".format(mean_duration,current_count)\n",
    "\n",
    "long_requests_str = str(output_dict)\n",
    "long_requests_str = long_requests_str.replace(\"{'\",\"{\\n\\t'\")\n",
    "long_requests_str = long_requests_str.replace(\"'}\",\"'\\n}\")\n",
    "long_requests_str = long_requests_str.replace(\"', '\",\"',\\n\\t'\")\n",
    "print(str(long_requests_str))"
   ]
  },
  {
   "cell_type": "markdown",
   "metadata": {},
   "source": [
    "With the given output, we can say that there is not a timeout implemented in some tcp connections, or those timeouts vary from connection from connection, but some ip addresses seem to keep their connections alive as long as they can, reconnecting after they die out. These actions are suspicious, and can be mostly observed on connections that come from the IP address '192.168.0.113'.\n",
    "Like so, we can say that this can be identified as a TCP Keepalive, with the atacker's ip 192.168.0.113."
   ]
  }
 ],
 "metadata": {
  "interpreter": {
   "hash": "916dbcbb3f70747c44a77c7bcd40155683ae19c65e1c03b4aa3499c5328201f1"
  },
  "kernelspec": {
   "display_name": "Python 3.8.10 64-bit",
   "language": "python",
   "name": "python3"
  },
  "language_info": {
   "codemirror_mode": {
    "name": "ipython",
    "version": 3
   },
   "file_extension": ".py",
   "mimetype": "text/x-python",
   "name": "python",
   "nbconvert_exporter": "python",
   "pygments_lexer": "ipython3",
   "version": "3.8.10"
  },
  "orig_nbformat": 4
 },
 "nbformat": 4,
 "nbformat_minor": 2
}
